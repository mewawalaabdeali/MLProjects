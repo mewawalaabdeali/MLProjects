{
  "cells": [
    {
      "cell_type": "code",
      "execution_count": 6,
      "metadata": {
        "id": "CHoMyIgMPPUk"
      },
      "outputs": [],
      "source": [
        "#Basic Imports\n",
        "\n",
        "import numpy as np\n",
        "import pandas as pd\n",
        "import seaborn as sns\n",
        "import matplotlib.pyplot as plt\n"
      ]
    },
    {
      "cell_type": "code",
      "execution_count": 7,
      "metadata": {
        "id": "W8h3_mTUNd0T"
      },
      "outputs": [],
      "source": [
        "#Modelling Imports\n",
        "from sklearn.metrics import mean_absolute_error, mean_squared_error, r2_score\n",
        "from sklearn.neighbors import KNeighborsRegressor\n",
        "from sklearn.tree import DecisionTreeRegressor\n",
        "from sklearn.ensemble import RandomForestRegressor, AdaBoostRegressor\n",
        "from sklearn.svm import SVR\n",
        "from sklearn.linear_model import LinearRegression, Ridge,Lasso\n",
        "from sklearn.metrics import r2_score, mean_absolute_error, mean_squared_error\n",
        "from sklearn.model_selection import RandomizedSearchCV\n",
        "from xgboost import XGBRegressor\n",
        "#from catboost import CatBoosRegressor\n",
        "import warnings\n",
        "\n"
      ]
    },
    {
      "cell_type": "code",
      "execution_count": 8,
      "metadata": {
        "id": "dX0_lXRNOcsq"
      },
      "outputs": [],
      "source": [
        "df = pd.read_csv('data\\data.csv')"
      ]
    },
    {
      "cell_type": "code",
      "execution_count": 9,
      "metadata": {
        "colab": {
          "base_uri": "https://localhost:8080/",
          "height": 206
        },
        "id": "9lSHdFZPOdgO",
        "outputId": "27ce9028-1205-4dff-c998-6456d9e8d726"
      },
      "outputs": [
        {
          "data": {
            "text/html": [
              "<div>\n",
              "<style scoped>\n",
              "    .dataframe tbody tr th:only-of-type {\n",
              "        vertical-align: middle;\n",
              "    }\n",
              "\n",
              "    .dataframe tbody tr th {\n",
              "        vertical-align: top;\n",
              "    }\n",
              "\n",
              "    .dataframe thead th {\n",
              "        text-align: right;\n",
              "    }\n",
              "</style>\n",
              "<table border=\"1\" class=\"dataframe\">\n",
              "  <thead>\n",
              "    <tr style=\"text-align: right;\">\n",
              "      <th></th>\n",
              "      <th>gender</th>\n",
              "      <th>race/ethnicity</th>\n",
              "      <th>parental level of education</th>\n",
              "      <th>lunch</th>\n",
              "      <th>test preparation course</th>\n",
              "      <th>math score</th>\n",
              "      <th>reading score</th>\n",
              "      <th>writing score</th>\n",
              "    </tr>\n",
              "  </thead>\n",
              "  <tbody>\n",
              "    <tr>\n",
              "      <th>0</th>\n",
              "      <td>female</td>\n",
              "      <td>group B</td>\n",
              "      <td>bachelor's degree</td>\n",
              "      <td>standard</td>\n",
              "      <td>none</td>\n",
              "      <td>72</td>\n",
              "      <td>72</td>\n",
              "      <td>74</td>\n",
              "    </tr>\n",
              "    <tr>\n",
              "      <th>1</th>\n",
              "      <td>female</td>\n",
              "      <td>group C</td>\n",
              "      <td>some college</td>\n",
              "      <td>standard</td>\n",
              "      <td>completed</td>\n",
              "      <td>69</td>\n",
              "      <td>90</td>\n",
              "      <td>88</td>\n",
              "    </tr>\n",
              "    <tr>\n",
              "      <th>2</th>\n",
              "      <td>female</td>\n",
              "      <td>group B</td>\n",
              "      <td>master's degree</td>\n",
              "      <td>standard</td>\n",
              "      <td>none</td>\n",
              "      <td>90</td>\n",
              "      <td>95</td>\n",
              "      <td>93</td>\n",
              "    </tr>\n",
              "    <tr>\n",
              "      <th>3</th>\n",
              "      <td>male</td>\n",
              "      <td>group A</td>\n",
              "      <td>associate's degree</td>\n",
              "      <td>free/reduced</td>\n",
              "      <td>none</td>\n",
              "      <td>47</td>\n",
              "      <td>57</td>\n",
              "      <td>44</td>\n",
              "    </tr>\n",
              "    <tr>\n",
              "      <th>4</th>\n",
              "      <td>male</td>\n",
              "      <td>group C</td>\n",
              "      <td>some college</td>\n",
              "      <td>standard</td>\n",
              "      <td>none</td>\n",
              "      <td>76</td>\n",
              "      <td>78</td>\n",
              "      <td>75</td>\n",
              "    </tr>\n",
              "  </tbody>\n",
              "</table>\n",
              "</div>"
            ],
            "text/plain": [
              "   gender race/ethnicity parental level of education         lunch  \\\n",
              "0  female        group B           bachelor's degree      standard   \n",
              "1  female        group C                some college      standard   \n",
              "2  female        group B             master's degree      standard   \n",
              "3    male        group A          associate's degree  free/reduced   \n",
              "4    male        group C                some college      standard   \n",
              "\n",
              "  test preparation course  math score  reading score  writing score  \n",
              "0                    none          72             72             74  \n",
              "1               completed          69             90             88  \n",
              "2                    none          90             95             93  \n",
              "3                    none          47             57             44  \n",
              "4                    none          76             78             75  "
            ]
          },
          "execution_count": 9,
          "metadata": {},
          "output_type": "execute_result"
        }
      ],
      "source": [
        "df.head()"
      ]
    },
    {
      "cell_type": "code",
      "execution_count": 10,
      "metadata": {
        "colab": {
          "base_uri": "https://localhost:8080/",
          "height": 206
        },
        "id": "GcQya84gPPDO",
        "outputId": "882a0853-79e4-4c5b-ca31-80825a404008"
      },
      "outputs": [
        {
          "data": {
            "text/html": [
              "<div>\n",
              "<style scoped>\n",
              "    .dataframe tbody tr th:only-of-type {\n",
              "        vertical-align: middle;\n",
              "    }\n",
              "\n",
              "    .dataframe tbody tr th {\n",
              "        vertical-align: top;\n",
              "    }\n",
              "\n",
              "    .dataframe thead th {\n",
              "        text-align: right;\n",
              "    }\n",
              "</style>\n",
              "<table border=\"1\" class=\"dataframe\">\n",
              "  <thead>\n",
              "    <tr style=\"text-align: right;\">\n",
              "      <th></th>\n",
              "      <th>gender</th>\n",
              "      <th>race/ethnicity</th>\n",
              "      <th>parental level of education</th>\n",
              "      <th>lunch</th>\n",
              "      <th>test preparation course</th>\n",
              "      <th>reading score</th>\n",
              "      <th>writing score</th>\n",
              "    </tr>\n",
              "  </thead>\n",
              "  <tbody>\n",
              "    <tr>\n",
              "      <th>0</th>\n",
              "      <td>female</td>\n",
              "      <td>group B</td>\n",
              "      <td>bachelor's degree</td>\n",
              "      <td>standard</td>\n",
              "      <td>none</td>\n",
              "      <td>72</td>\n",
              "      <td>74</td>\n",
              "    </tr>\n",
              "    <tr>\n",
              "      <th>1</th>\n",
              "      <td>female</td>\n",
              "      <td>group C</td>\n",
              "      <td>some college</td>\n",
              "      <td>standard</td>\n",
              "      <td>completed</td>\n",
              "      <td>90</td>\n",
              "      <td>88</td>\n",
              "    </tr>\n",
              "    <tr>\n",
              "      <th>2</th>\n",
              "      <td>female</td>\n",
              "      <td>group B</td>\n",
              "      <td>master's degree</td>\n",
              "      <td>standard</td>\n",
              "      <td>none</td>\n",
              "      <td>95</td>\n",
              "      <td>93</td>\n",
              "    </tr>\n",
              "    <tr>\n",
              "      <th>3</th>\n",
              "      <td>male</td>\n",
              "      <td>group A</td>\n",
              "      <td>associate's degree</td>\n",
              "      <td>free/reduced</td>\n",
              "      <td>none</td>\n",
              "      <td>57</td>\n",
              "      <td>44</td>\n",
              "    </tr>\n",
              "    <tr>\n",
              "      <th>4</th>\n",
              "      <td>male</td>\n",
              "      <td>group C</td>\n",
              "      <td>some college</td>\n",
              "      <td>standard</td>\n",
              "      <td>none</td>\n",
              "      <td>78</td>\n",
              "      <td>75</td>\n",
              "    </tr>\n",
              "  </tbody>\n",
              "</table>\n",
              "</div>"
            ],
            "text/plain": [
              "   gender race/ethnicity parental level of education         lunch  \\\n",
              "0  female        group B           bachelor's degree      standard   \n",
              "1  female        group C                some college      standard   \n",
              "2  female        group B             master's degree      standard   \n",
              "3    male        group A          associate's degree  free/reduced   \n",
              "4    male        group C                some college      standard   \n",
              "\n",
              "  test preparation course  reading score  writing score  \n",
              "0                    none             72             74  \n",
              "1               completed             90             88  \n",
              "2                    none             95             93  \n",
              "3                    none             57             44  \n",
              "4                    none             78             75  "
            ]
          },
          "execution_count": 10,
          "metadata": {},
          "output_type": "execute_result"
        }
      ],
      "source": [
        "X = df.drop(columns=['math score'],axis=1)\n",
        "X.head()"
      ]
    },
    {
      "cell_type": "code",
      "execution_count": 11,
      "metadata": {
        "colab": {
          "base_uri": "https://localhost:8080/"
        },
        "id": "nJLCTCSbPaPc",
        "outputId": "5ccf496b-6393-4955-ac1f-76c597c17360"
      },
      "outputs": [
        {
          "name": "stdout",
          "output_type": "stream",
          "text": [
            "Categories in 'gender' variable :   ['female' 'male']\n",
            "Categories in 'race/ethnicity' variable :   ['group B' 'group C' 'group A' 'group D' 'group E']\n",
            "Categories in 'parental level of education' variable :   [\"bachelor's degree\" 'some college' \"master's degree\" \"associate's degree\"\n",
            " 'high school' 'some high school']\n",
            "Categories in 'lunch' variable :   ['standard' 'free/reduced']\n",
            "Categories in 'test preparation course' variable :   ['none' 'completed']\n"
          ]
        }
      ],
      "source": [
        "print(\"Categories in 'gender' variable :  \",end=\" \")\n",
        "print(df['gender'].unique())\n",
        "\n",
        "print(\"Categories in 'race/ethnicity' variable :  \",end=\" \")\n",
        "print(df['race/ethnicity'].unique())\n",
        "\n",
        "print(\"Categories in 'parental level of education' variable :  \",end=\" \")\n",
        "print(df['parental level of education'].unique())\n",
        "\n",
        "print(\"Categories in 'lunch' variable :  \",end=\" \")\n",
        "print(df['lunch'].unique())\n",
        "\n",
        "print(\"Categories in 'test preparation course' variable :  \",end=\" \")\n",
        "print(df['test preparation course'].unique())"
      ]
    },
    {
      "cell_type": "code",
      "execution_count": 12,
      "metadata": {
        "colab": {
          "base_uri": "https://localhost:8080/",
          "height": 458
        },
        "id": "8GdEPju0Pj36",
        "outputId": "41e3417a-6643-499e-e8d8-b52cc14a6a47"
      },
      "outputs": [
        {
          "data": {
            "text/plain": [
              "0      72\n",
              "1      69\n",
              "2      90\n",
              "3      47\n",
              "4      76\n",
              "       ..\n",
              "995    88\n",
              "996    62\n",
              "997    59\n",
              "998    68\n",
              "999    77\n",
              "Name: math score, Length: 1000, dtype: int64"
            ]
          },
          "execution_count": 12,
          "metadata": {},
          "output_type": "execute_result"
        }
      ],
      "source": [
        "y = df['math score']\n",
        "y"
      ]
    },
    {
      "cell_type": "markdown",
      "metadata": {
        "id": "JgIxJDnlPuIq"
      },
      "source": [
        "Create Column transformers with three type of tranformers"
      ]
    },
    {
      "cell_type": "code",
      "execution_count": 13,
      "metadata": {
        "id": "v9jKxjjKPx0E"
      },
      "outputs": [],
      "source": [
        "num_features = X.select_dtypes(exclude=\"object\").columns\n",
        "cat_features = X.select_dtypes(include=\"object\").columns\n",
        "\n",
        "\n",
        "\n",
        "from sklearn.preprocessing import OneHotEncoder, StandardScaler\n",
        "from sklearn.compose import ColumnTransformer\n",
        "\n",
        "numeric_transformer = StandardScaler()\n",
        "oh_transformer = OneHotEncoder()\n",
        "\n",
        "preprocessor = ColumnTransformer(\n",
        "    [\n",
        "        (\"OneHotEncoder\", oh_transformer, cat_features),\n",
        "        (\"StandardScaler\", numeric_transformer, num_features),\n",
        "    ]\n",
        "\n",
        "\n",
        ")"
      ]
    },
    {
      "cell_type": "code",
      "execution_count": 14,
      "metadata": {
        "id": "d3DHmqXFRXBn"
      },
      "outputs": [],
      "source": [
        "X = preprocessor.fit_transform(X)\n"
      ]
    },
    {
      "cell_type": "code",
      "execution_count": 15,
      "metadata": {
        "colab": {
          "base_uri": "https://localhost:8080/"
        },
        "id": "d-ceokLjTMgz",
        "outputId": "cb92b941-9428-4957-e28c-d01694edee0f"
      },
      "outputs": [
        {
          "data": {
            "text/plain": [
              "(1000, 19)"
            ]
          },
          "execution_count": 15,
          "metadata": {},
          "output_type": "execute_result"
        }
      ],
      "source": [
        "X.shape"
      ]
    },
    {
      "cell_type": "code",
      "execution_count": 16,
      "metadata": {
        "colab": {
          "base_uri": "https://localhost:8080/"
        },
        "id": "LIMyZqOjThvK",
        "outputId": "9452a96c-d955-49cf-c52f-1e379d64e1d6"
      },
      "outputs": [
        {
          "data": {
            "text/plain": [
              "((800, 19), (200, 19))"
            ]
          },
          "execution_count": 16,
          "metadata": {},
          "output_type": "execute_result"
        }
      ],
      "source": [
        "from sklearn.model_selection import train_test_split\n",
        "X_train, X_test, y_train, y_test = train_test_split(X,y, test_size=0.2, random_state = 42)\n",
        "X_train.shape, X_test.shape"
      ]
    },
    {
      "cell_type": "code",
      "execution_count": 17,
      "metadata": {
        "id": "Brcqx-IvT7gF"
      },
      "outputs": [],
      "source": [
        "def evaluate_model(true, predicted):\n",
        "  mse = mean_squared_error(true, predicted)\n",
        "  mae = mean_absolute_error(true, predicted)\n",
        "  rmse = np.sqrt(mean_squared_error(true, predicted))\n",
        "  r2_square = r2_score(true, predicted)\n",
        "  return mse, mae, rmse, r2_square"
      ]
    },
    {
      "cell_type": "code",
      "execution_count": 18,
      "metadata": {
        "colab": {
          "base_uri": "https://localhost:8080/"
        },
        "id": "LtMYtzEpg_Ci",
        "outputId": "15b16511-b4b6-4e34-ac70-e91ef62e7e3e"
      },
      "outputs": [
        {
          "name": "stdout",
          "output_type": "stream",
          "text": [
            "Linear_Regression\n",
            "Model performance for Training set\n",
            "-Root Mean Squared Error 5.3273\n",
            "-Mean Absolute Error 28.3805\n",
            "-R2 Score 0.8741\n",
            "----------------------------\n",
            "Model performance for Test set\n",
            "-Root Mean Squared Error 5.4096\n",
            "-Mean Absolute Error 29.2638\n",
            "-R2 Score 0.8797\n",
            "===================================\n",
            "\n",
            "\n",
            "Lasso\n",
            "Model performance for Training set\n",
            "-Root Mean Squared Error 6.5938\n",
            "-Mean Absolute Error 43.4784\n",
            "-R2 Score 0.8071\n",
            "----------------------------\n",
            "Model performance for Test set\n",
            "-Root Mean Squared Error 6.5197\n",
            "-Mean Absolute Error 42.5064\n",
            "-R2 Score 0.8253\n",
            "===================================\n",
            "\n",
            "\n",
            "Ridge\n",
            "Model performance for Training set\n",
            "-Root Mean Squared Error 5.3233\n",
            "-Mean Absolute Error 28.3378\n",
            "-R2 Score 0.8743\n",
            "----------------------------\n",
            "Model performance for Test set\n",
            "-Root Mean Squared Error 5.3904\n",
            "-Mean Absolute Error 29.0563\n",
            "-R2 Score 0.8806\n",
            "===================================\n",
            "\n",
            "\n",
            "K-Neighbors_Regressor\n",
            "Model performance for Training set\n",
            "-Root Mean Squared Error 5.7122\n",
            "-Mean Absolute Error 32.6294\n",
            "-R2 Score 0.8553\n",
            "----------------------------\n",
            "Model performance for Test set\n",
            "-Root Mean Squared Error 7.2516\n",
            "-Mean Absolute Error 52.5860\n",
            "-R2 Score 0.7839\n",
            "===================================\n",
            "\n",
            "\n",
            "Decision_Tree\n",
            "Model performance for Training set\n",
            "-Root Mean Squared Error 0.2795\n",
            "-Mean Absolute Error 0.0781\n",
            "-R2 Score 0.9997\n",
            "----------------------------\n",
            "Model performance for Test set\n",
            "-Root Mean Squared Error 8.1643\n",
            "-Mean Absolute Error 66.6550\n",
            "-R2 Score 0.7261\n",
            "===================================\n",
            "\n",
            "\n",
            "Random_Forest_Regressor\n",
            "Model performance for Training set\n",
            "-Root Mean Squared Error 2.3211\n",
            "-Mean Absolute Error 5.3877\n",
            "-R2 Score 0.9761\n",
            "----------------------------\n",
            "Model performance for Test set\n",
            "-Root Mean Squared Error 6.0311\n",
            "-Mean Absolute Error 36.3736\n",
            "-R2 Score 0.8505\n",
            "===================================\n",
            "\n",
            "\n",
            "XGBRegressor\n",
            "Model performance for Training set\n",
            "-Root Mean Squared Error 1.0073\n",
            "-Mean Absolute Error 1.0146\n",
            "-R2 Score 0.9955\n",
            "----------------------------\n",
            "Model performance for Test set\n",
            "-Root Mean Squared Error 6.4733\n",
            "-Mean Absolute Error 41.9037\n",
            "-R2 Score 0.8278\n",
            "===================================\n",
            "\n",
            "\n",
            "AdaBoost_Regressor\n",
            "Model performance for Training set\n",
            "-Root Mean Squared Error 5.8534\n",
            "-Mean Absolute Error 34.2618\n",
            "-R2 Score 0.8480\n",
            "----------------------------\n",
            "Model performance for Test set\n",
            "-Root Mean Squared Error 5.9171\n",
            "-Mean Absolute Error 35.0119\n",
            "-R2 Score 0.8561\n",
            "===================================\n",
            "\n",
            "\n"
          ]
        }
      ],
      "source": [
        "models = {\n",
        "    \"Linear_Regression\" : LinearRegression(),\n",
        "    \"Lasso\" : Lasso(),\n",
        "    \"Ridge\" : Ridge(),\n",
        "    \"K-Neighbors_Regressor\" : KNeighborsRegressor(),\n",
        "    \"Decision_Tree\" : DecisionTreeRegressor(),\n",
        "    \"Random_Forest_Regressor\" : RandomForestRegressor(),\n",
        "    \"XGBRegressor\" : XGBRegressor(),\n",
        "    #\"CatBoosting_Regressor\" : CatBoostingRegressor(),\n",
        "    \"AdaBoost_Regressor\" : AdaBoostRegressor(),\n",
        "\n",
        "}\n",
        "\n",
        "model_list = []\n",
        "r2_list = []\n",
        "\n",
        "for i in range(len(list(models))):\n",
        "  model  = list(models.values())[i]\n",
        "  model.fit(X_train, y_train)\n",
        "\n",
        "  #Make Model prediction\n",
        "  y_train_pred = model.predict(X_train)\n",
        "  y_test_pred = model.predict(X_test)\n",
        "\n",
        "  #Evaluation Train and Test Dataset\n",
        "  model_train_mae, model_train_mse,  model_train_rmse, model_train_r2 = evaluate_model(y_train, y_train_pred)\n",
        "\n",
        "  model_test_mae, model_train_mse, model_test_rmse, model_test_r2,  = evaluate_model(y_test, y_test_pred)\n",
        "\n",
        "\n",
        "  print(list(models.keys())[i])\n",
        "  model_list.append(list(models.keys())[i])\n",
        "\n",
        "\n",
        "  print('Model performance for Training set')\n",
        "  print(\"-Root Mean Squared Error {:.4F}\".format(model_train_rmse))\n",
        "  print(\"-Mean Absolute Error {:.4F}\".format(model_train_mae))\n",
        "  print(\"-R2 Score {:.4F}\".format(model_train_r2))\n",
        "\n",
        "  print('----------------------------')\n",
        "\n",
        "\n",
        "  print('Model performance for Test set')\n",
        "  print(\"-Root Mean Squared Error {:.4F}\".format(model_test_rmse))\n",
        "  print(\"-Mean Absolute Error {:.4F}\".format(model_test_mae))\n",
        "  print(\"-R2 Score {:.4F}\".format(model_test_r2))\n",
        "\n",
        "  r2_list.append(model_test_r2)\n",
        "\n",
        "  print('='*35)\n",
        "  print('\\n')\n",
        "\n",
        "\n"
      ]
    },
    {
      "cell_type": "code",
      "execution_count": 19,
      "metadata": {
        "colab": {
          "base_uri": "https://localhost:8080/",
          "height": 300
        },
        "id": "Txp658ztb3f1",
        "outputId": "fcfcb85c-9296-48e2-846d-003213b32236"
      },
      "outputs": [
        {
          "data": {
            "text/html": [
              "<div>\n",
              "<style scoped>\n",
              "    .dataframe tbody tr th:only-of-type {\n",
              "        vertical-align: middle;\n",
              "    }\n",
              "\n",
              "    .dataframe tbody tr th {\n",
              "        vertical-align: top;\n",
              "    }\n",
              "\n",
              "    .dataframe thead th {\n",
              "        text-align: right;\n",
              "    }\n",
              "</style>\n",
              "<table border=\"1\" class=\"dataframe\">\n",
              "  <thead>\n",
              "    <tr style=\"text-align: right;\">\n",
              "      <th></th>\n",
              "      <th>Models Name</th>\n",
              "      <th>R2_Score</th>\n",
              "    </tr>\n",
              "  </thead>\n",
              "  <tbody>\n",
              "    <tr>\n",
              "      <th>2</th>\n",
              "      <td>Ridge</td>\n",
              "      <td>0.880593</td>\n",
              "    </tr>\n",
              "    <tr>\n",
              "      <th>0</th>\n",
              "      <td>Linear_Regression</td>\n",
              "      <td>0.879740</td>\n",
              "    </tr>\n",
              "    <tr>\n",
              "      <th>7</th>\n",
              "      <td>AdaBoost_Regressor</td>\n",
              "      <td>0.856119</td>\n",
              "    </tr>\n",
              "    <tr>\n",
              "      <th>5</th>\n",
              "      <td>Random_Forest_Regressor</td>\n",
              "      <td>0.850522</td>\n",
              "    </tr>\n",
              "    <tr>\n",
              "      <th>6</th>\n",
              "      <td>XGBRegressor</td>\n",
              "      <td>0.827797</td>\n",
              "    </tr>\n",
              "    <tr>\n",
              "      <th>1</th>\n",
              "      <td>Lasso</td>\n",
              "      <td>0.825320</td>\n",
              "    </tr>\n",
              "    <tr>\n",
              "      <th>3</th>\n",
              "      <td>K-Neighbors_Regressor</td>\n",
              "      <td>0.783898</td>\n",
              "    </tr>\n",
              "    <tr>\n",
              "      <th>4</th>\n",
              "      <td>Decision_Tree</td>\n",
              "      <td>0.726081</td>\n",
              "    </tr>\n",
              "  </tbody>\n",
              "</table>\n",
              "</div>"
            ],
            "text/plain": [
              "               Models Name  R2_Score\n",
              "2                    Ridge  0.880593\n",
              "0        Linear_Regression  0.879740\n",
              "7       AdaBoost_Regressor  0.856119\n",
              "5  Random_Forest_Regressor  0.850522\n",
              "6             XGBRegressor  0.827797\n",
              "1                    Lasso  0.825320\n",
              "3    K-Neighbors_Regressor  0.783898\n",
              "4            Decision_Tree  0.726081"
            ]
          },
          "execution_count": 19,
          "metadata": {},
          "output_type": "execute_result"
        }
      ],
      "source": [
        "pd.DataFrame(list(zip(model_list, r2_list)), columns = ['Models Name', 'R2_Score']).sort_values(by=[\"R2_Score\"], ascending = False)"
      ]
    },
    {
      "cell_type": "markdown",
      "metadata": {
        "id": "5SwWoodcc8CW"
      },
      "source": [
        "Linear Regression"
      ]
    },
    {
      "cell_type": "code",
      "execution_count": 20,
      "metadata": {
        "colab": {
          "base_uri": "https://localhost:8080/"
        },
        "id": "Zjh3hUVQc9lI",
        "outputId": "56225ccb-137e-45a3-d92b-a4ec66ccc275"
      },
      "outputs": [
        {
          "name": "stdout",
          "output_type": "stream",
          "text": [
            "Accuracy of the model is 87.97\n"
          ]
        }
      ],
      "source": [
        "lin_model = LinearRegression(fit_intercept=True)\n",
        "lin_model = lin_model.fit(X_train, y_train)\n",
        "y_pred = lin_model.predict(X_test)\n",
        "score = r2_score(y_test, y_pred)*100\n",
        "print(\"Accuracy of the model is %.2f\" %score)"
      ]
    },
    {
      "cell_type": "markdown",
      "metadata": {
        "id": "SxYB9ndRf-XF"
      },
      "source": [
        "Plot y_pred and y_test"
      ]
    },
    {
      "cell_type": "code",
      "execution_count": 21,
      "metadata": {
        "colab": {
          "base_uri": "https://localhost:8080/",
          "height": 449
        },
        "id": "HiM16BCngBdZ",
        "outputId": "321a63ce-de17-4e42-b414-5523ebbe632e"
      },
      "outputs": [
        {
          "data": {
            "image/png": "[encoded data removed]",
            "text/plain": [
              "<Figure size 640x480 with 1 Axes>"
            ]
          },
          "metadata": {},
          "output_type": "display_data"
        }
      ],
      "source": [
        "plt.scatter(y_test, y_pred);\n",
        "plt.xlabel('Actual');\n",
        "plt.ylabel('Predicted');"
      ]
    },
    {
      "cell_type": "code",
      "execution_count": 22,
      "metadata": {
        "colab": {
          "base_uri": "https://localhost:8080/",
          "height": 451
        },
        "id": "Gs5Xi7HSgQaJ",
        "outputId": "836667c8-a07d-4f0b-e36a-2a6954fdb54d"
      },
      "outputs": [
        {
          "data": {
            "image/png": "[encoded data removed]",
            "text/plain": [
              "<Figure size 640x480 with 1 Axes>"
            ]
          },
          "metadata": {},
          "output_type": "display_data"
        }
      ],
      "source": [
        "sns.regplot(x=y_test, y=y_pred, ci=None, color='green');"
      ]
    },
    {
      "cell_type": "code",
      "execution_count": 23,
      "metadata": {
        "colab": {
          "base_uri": "https://localhost:8080/",
          "height": 424
        },
        "id": "c_9XvgMTgfr2",
        "outputId": "67545445-b71e-423d-bcd6-65c1edaa3444"
      },
      "outputs": [
        {
          "data": {
            "text/html": [
              "<div>\n",
              "<style scoped>\n",
              "    .dataframe tbody tr th:only-of-type {\n",
              "        vertical-align: middle;\n",
              "    }\n",
              "\n",
              "    .dataframe tbody tr th {\n",
              "        vertical-align: top;\n",
              "    }\n",
              "\n",
              "    .dataframe thead th {\n",
              "        text-align: right;\n",
              "    }\n",
              "</style>\n",
              "<table border=\"1\" class=\"dataframe\">\n",
              "  <thead>\n",
              "    <tr style=\"text-align: right;\">\n",
              "      <th></th>\n",
              "      <th>Actual Value</th>\n",
              "      <th>Predicted Value</th>\n",
              "      <th>Difference</th>\n",
              "    </tr>\n",
              "  </thead>\n",
              "  <tbody>\n",
              "    <tr>\n",
              "      <th>521</th>\n",
              "      <td>91</td>\n",
              "      <td>76.703125</td>\n",
              "      <td>14.296875</td>\n",
              "    </tr>\n",
              "    <tr>\n",
              "      <th>737</th>\n",
              "      <td>53</td>\n",
              "      <td>58.578125</td>\n",
              "      <td>-5.578125</td>\n",
              "    </tr>\n",
              "    <tr>\n",
              "      <th>740</th>\n",
              "      <td>80</td>\n",
              "      <td>76.828125</td>\n",
              "      <td>3.171875</td>\n",
              "    </tr>\n",
              "    <tr>\n",
              "      <th>660</th>\n",
              "      <td>74</td>\n",
              "      <td>76.734375</td>\n",
              "      <td>-2.734375</td>\n",
              "    </tr>\n",
              "    <tr>\n",
              "      <th>411</th>\n",
              "      <td>84</td>\n",
              "      <td>87.484375</td>\n",
              "      <td>-3.484375</td>\n",
              "    </tr>\n",
              "    <tr>\n",
              "      <th>...</th>\n",
              "      <td>...</td>\n",
              "      <td>...</td>\n",
              "      <td>...</td>\n",
              "    </tr>\n",
              "    <tr>\n",
              "      <th>408</th>\n",
              "      <td>52</td>\n",
              "      <td>43.125000</td>\n",
              "      <td>8.875000</td>\n",
              "    </tr>\n",
              "    <tr>\n",
              "      <th>332</th>\n",
              "      <td>62</td>\n",
              "      <td>62.109375</td>\n",
              "      <td>-0.109375</td>\n",
              "    </tr>\n",
              "    <tr>\n",
              "      <th>208</th>\n",
              "      <td>74</td>\n",
              "      <td>67.562500</td>\n",
              "      <td>6.437500</td>\n",
              "    </tr>\n",
              "    <tr>\n",
              "      <th>613</th>\n",
              "      <td>65</td>\n",
              "      <td>67.328125</td>\n",
              "      <td>-2.328125</td>\n",
              "    </tr>\n",
              "    <tr>\n",
              "      <th>78</th>\n",
              "      <td>61</td>\n",
              "      <td>62.312500</td>\n",
              "      <td>-1.312500</td>\n",
              "    </tr>\n",
              "  </tbody>\n",
              "</table>\n",
              "<p>200 rows × 3 columns</p>\n",
              "</div>"
            ],
            "text/plain": [
              "     Actual Value  Predicted Value  Difference\n",
              "521            91        76.703125   14.296875\n",
              "737            53        58.578125   -5.578125\n",
              "740            80        76.828125    3.171875\n",
              "660            74        76.734375   -2.734375\n",
              "411            84        87.484375   -3.484375\n",
              "..            ...              ...         ...\n",
              "408            52        43.125000    8.875000\n",
              "332            62        62.109375   -0.109375\n",
              "208            74        67.562500    6.437500\n",
              "613            65        67.328125   -2.328125\n",
              "78             61        62.312500   -1.312500\n",
              "\n",
              "[200 rows x 3 columns]"
            ]
          },
          "execution_count": 23,
          "metadata": {},
          "output_type": "execute_result"
        }
      ],
      "source": [
        "pred_diff = pd.DataFrame({'Actual Value' : y_test, 'Predicted Value' : y_pred, 'Difference' : y_test-y_pred})\n",
        "pred_diff"
      ]
    }
  ],
  "metadata": {
    "colab": {
      "provenance": []
    },
    "kernelspec": {
      "display_name": "Python 3",
      "name": "python3"
    },
    "language_info": {
      "codemirror_mode": {
        "name": "ipython",
        "version": 3
      },
      "file_extension": ".py",
      "mimetype": "text/x-python",
      "name": "python",
      "nbconvert_exporter": "python",
      "pygments_lexer": "ipython3",
      "version": "3.8.0"
    }
  },
  "nbformat": 4,
  "nbformat_minor": 0
}
